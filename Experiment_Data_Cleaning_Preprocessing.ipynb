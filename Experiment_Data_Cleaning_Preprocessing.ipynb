{
 "cells": [
  {
   "cell_type": "markdown",
   "metadata": {},
   "source": [
    "# Experiment 2: Data Cleaning and Preprocessing"
   ]
  },
  {
   "cell_type": "code",
   "execution_count": null,
   "metadata": {},
   "outputs": [],
   "source": [
    "import pandas as pd\n",
    "import numpy as np\n",
    "from sklearn.preprocessing import MinMaxScaler, StandardScaler, RobustScaler, LabelEncoder\n",
    "from sklearn.impute import SimpleImputer\n",
    "\n",
    "# Create dataset\n",
    "data = {\n",
    "    'age': [35,41,23,32,28,36,45,39,44,29],\n",
    "    'income': ['70000','90000','50000','60000','','75000','100000','80000','95000','55000'],\n",
    "    'date':['2020-01-01','2020-01-02','2020-01-03','2020-01-04','2020-01-05','2020-01-06','2020-01-07','','2020-01-09','2020-01-10'],\n",
    "    'marital_status':['married','single','married','single','married','single','married','single','married','single'],\n",
    "    'gender':['female','male','male','female','female','male','female','male','male','female']\n",
    "}\n",
    "df = pd.DataFrame(data)\n",
    "df.to_csv('data.csv', index=False)\n",
    "df.head()"
   ]
  },
  {
   "cell_type": "code",
   "execution_count": null,
   "metadata": {},
   "outputs": [],
   "source": [
    "# Load dataset\n",
    "df = pd.read_csv('data.csv')\n",
    "print(df)\n",
    "print(df.isnull().sum())"
   ]
  },
  {
   "cell_type": "code",
   "execution_count": null,
   "metadata": {},
   "outputs": [],
   "source": [
    "# Handle missing values: income with mean, date with forward fill\n",
    "df['income'] = pd.to_numeric(df['income'], errors='coerce')\n",
    "df['income'].fillna(df['income'].mean(), inplace=True)\n",
    "df['date'].fillna(method='ffill', inplace=True)\n",
    "df"
   ]
  },
  {
   "cell_type": "code",
   "execution_count": null,
   "metadata": {},
   "outputs": [],
   "source": [
    "# Drop rows with missing values (if any)\n",
    "df_cleaned = df.dropna()\n",
    "df_cleaned"
   ]
  },
  {
   "cell_type": "code",
   "execution_count": null,
   "metadata": {},
   "outputs": [],
   "source": [
    "# Remove and Insert Columns\n",
    "df1 = df_cleaned.drop('gender', axis=1)\n",
    "df1 = df1.assign(age_squared=lambda x: x['age']**2)\n",
    "df1.head()"
   ]
  },
  {
   "cell_type": "code",
   "execution_count": null,
   "metadata": {},
   "outputs": [],
   "source": [
    "# Rename income to annual_income\n",
    "df1 = df1.rename(columns={'income': 'annual_income'})\n",
    "df1.head()"
   ]
  },
  {
   "cell_type": "code",
   "execution_count": null,
   "metadata": {},
   "outputs": [],
   "source": [
    "# Feature Scaling using MinMaxScaler and StandardScaler\n",
    "scaler = MinMaxScaler()\n",
    "df1['age'] = scaler.fit_transform(df1[['age']])\n",
    "\n",
    "scaler = StandardScaler()\n",
    "df1[['annual_income','age_squared']] = scaler.fit_transform(df1[['annual_income','age_squared']])\n",
    "df1.head()"
   ]
  },
  {
   "cell_type": "code",
   "execution_count": null,
   "metadata": {},
   "outputs": [],
   "source": [
    "# Encoding categorical values\n",
    "le = LabelEncoder()\n",
    "df[['marital_status','gender']] = df[['marital_status','gender']].apply(le.fit_transform)\n",
    "df.head()"
   ]
  }
 ],
 "metadata": {
  "colab": {
   "name": "Experiment_2_Data_Cleaning_Preprocessing",
   "provenance": []
  },
  "kernelspec": {
   "display_name": "Python 3",
   "name": "python3"
  },
  "language_info": {
   "name": "python"
  }
 },
 "nbformat": 4,
 "nbformat_minor": 0
}